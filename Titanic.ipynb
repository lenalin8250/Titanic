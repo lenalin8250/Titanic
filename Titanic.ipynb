{
  "nbformat": 4,
  "nbformat_minor": 0,
  "metadata": {
    "colab": {
      "name": "Titanic.ipynb",
      "provenance": [],
      "collapsed_sections": [],
      "authorship_tag": "ABX9TyOmi5YywyKH+eL8QZC6mzUc",
      "include_colab_link": true
    },
    "kernelspec": {
      "name": "python3",
      "display_name": "Python 3"
    },
    "language_info": {
      "name": "python"
    }
  },
  "cells": [
    {
      "cell_type": "markdown",
      "metadata": {
        "id": "view-in-github",
        "colab_type": "text"
      },
      "source": [
        "<a href=\"https://colab.research.google.com/github/lenalin8250/Titanic/blob/main/Titanic.ipynb\" target=\"_parent\"><img src=\"https://colab.research.google.com/assets/colab-badge.svg\" alt=\"Open In Colab\"/></a>"
      ]
    },
    {
      "cell_type": "code",
      "metadata": {
        "id": "ieD5nwj-WAtG",
        "colab": {
          "base_uri": "https://localhost:8080/"
        },
        "outputId": "073251dd-2bbc-4d2d-c2c0-c8e323efabd4"
      },
      "source": [
        "\n",
        "import numpy as np\n",
        "import pandas as pd\n",
        "\n",
        "\n",
        "\n",
        "#load data into index\n",
        "train_data = pd.read_csv(\"train.csv\")\n",
        "train_data.head()\n",
        "test_data=pd.read_csv(\"test.csv\")\n",
        "test_data.head()\n",
        "\n",
        "#women's survival rate calculation\n",
        "women = train_data.loc[train_data.Sex == 'female'][\"Survived\"]\n",
        "rate_women = sum(women)/len(women)\n",
        "\n",
        "print(\"% of women who survived:\", rate_women)\n",
        "#women's is almost 75%\n",
        "\n",
        "#men's survival rate calculation\n",
        "men = train_data.loc[train_data.Sex == 'male'][\"Survived\"]\n",
        "rate_men = sum(men)/len(men)\n",
        "\n",
        "print(\"% of men who survived:\", rate_men)\n",
        "#men's is almost 19% \n",
        "\n",
        "###### machine learning model coding below ###########\n",
        "\n",
        "#loading random forest model\n",
        "from sklearn.ensemble import RandomForestClassifier\n",
        "\n",
        "y = train_data[\"Survived\"]\n",
        "\n",
        "features = [\"Pclass\", \"Sex\", \"SibSp\", \"Parch\"]\n",
        "X = pd.get_dummies(train_data[features])\n",
        "X_test = pd.get_dummies(test_data[features])\n",
        "\n",
        "model = RandomForestClassifier(n_estimators=100, max_depth=20, max_leaf_nodes=50, min_samples_split=5, random_state=1)\n",
        "model.fit(X, y)\n",
        "predictions = model.predict(X_test)\n",
        "\n",
        "\n",
        "### submission to Kaggle Competition \n",
        "output = pd.DataFrame({'PassengerId': test_data.PassengerId, 'Survived': predictions})\n",
        "output.to_csv('my_submission.csv', index=False)\n",
        "print(\"Your submission was successfully saved!\")\n",
        "\n",
        "#X.describe()\n",
        "#X.head()\n",
        "#print(y.head())\n",
        "#print(model.predict(X.head()))\n",
        "#print(predictions)\n",
        "#print(y.head())\n",
        "\n",
        "#### model validation ####\n",
        "\n",
        "#import absolute mean error \n",
        "from sklearn.metrics import mean_absolute_error\n",
        "\n",
        "predicted_survival = model.predict(X)\n",
        "#in sample error or training prediction only\n",
        "in_error=mean_absolute_error(y, predicted_survival)\n",
        "\n",
        "# import train_test_split\n",
        "from sklearn.model_selection import train_test_split\n",
        "\n",
        "train_X, val_X, train_y, val_y = train_test_split(X, y, random_state = 1)\n",
        "model=RandomForestClassifier(random_state=1)\n",
        "model.fit(train_X,train_y)\n",
        "val_predictions=model.predict(val_X)\n",
        "#out of sample error\n",
        "out_error=mean_absolute_error(val_y, val_predictions)\n",
        "\n",
        "#Kaggle Competition score\n",
        "score=1-out_error\n",
        "score=round(score,3)\n",
        "print(\"Your Kaggle Score is \"+ str(score))\n",
        "\n",
        "\n",
        "\n",
        "\n",
        "\n",
        "### underfitting and overfitting test ###\n",
        "def get_mae(max_leaf_nodes, train_X, val_X, train_y, val_y):\n",
        "    model = RandomForestClassifier(max_leaf_nodes=max_leaf_nodes, random_state=1)\n",
        "    model.fit(train_X, train_y)\n",
        "    pred_val = model.predict(val_X)\n",
        "    mae = mean_absolute_error(val_y, pred_val)\n",
        "    return(mae)\n",
        "\n",
        "# compare MAE with differing values of max_leaf_nodes\n",
        "candidate_max_leaf_nodes = [5, 25, 50, 100, 250, 500]\n",
        "scores = {leaf_size: get_mae(leaf_size, train_X, val_X, train_y, val_y) for leaf_size in candidate_max_leaf_nodes}\n",
        "best_tree_size = min(scores, key=scores.get)\n",
        "print(best_tree_size)"
      ],
      "execution_count": 85,
      "outputs": [
        {
          "output_type": "stream",
          "text": [
            "% of women who survived: 0.7420382165605095\n",
            "% of men who survived: 0.18890814558058924\n",
            "Your submission was successfully saved!\n",
            "Your Kaggle Score is 0.78\n",
            "5\n"
          ],
          "name": "stdout"
        }
      ]
    }
  ]
}