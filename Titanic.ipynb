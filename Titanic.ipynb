{
  "nbformat": 4,
  "nbformat_minor": 0,
  "metadata": {
    "colab": {
      "name": "Titanic.ipynb",
      "provenance": [],
      "collapsed_sections": [],
      "include_colab_link": true
    },
    "kernelspec": {
      "name": "python3",
      "display_name": "Python 3"
    },
    "language_info": {
      "name": "python"
    }
  },
  "cells": [
    {
      "cell_type": "markdown",
      "metadata": {
        "id": "view-in-github",
        "colab_type": "text"
      },
      "source": [
        "<a href=\"https://colab.research.google.com/github/lenalin8250/Titanic/blob/main/Titanic.ipynb\" target=\"_parent\"><img src=\"https://colab.research.google.com/assets/colab-badge.svg\" alt=\"Open In Colab\"/></a>"
      ]
    },
    {
      "cell_type": "code",
      "metadata": {
        "id": "ieD5nwj-WAtG",
        "colab": {
          "base_uri": "https://localhost:8080/"
        },
        "outputId": "ec67f9f5-9e1d-4c98-873f-1b1605fc3615"
      },
      "source": [
        "\n",
        "import numpy as np\n",
        "import pandas as pd\n",
        "from sklearn.metrics import mean_absolute_error\n",
        "from sklearn.model_selection import train_test_split\n",
        "from sklearn.tree import DecisionTreeRegressor\n",
        "from sklearn.ensemble import RandomForestClassifier\n",
        "\n",
        "\n",
        "#load data into index\n",
        "train_data = pd.read_csv(\"train.csv\")\n",
        "train_data.head()\n",
        "test_data=pd.read_csv(\"test.csv\")\n",
        "test_data.head()\n",
        "\n",
        "#women's survival rate calculation\n",
        "women = train_data.loc[train_data.Sex == 'female'][\"Survived\"]\n",
        "rate_women = sum(women)/len(women)\n",
        "\n",
        "print(\"% of women who survived:\", rate_women)\n",
        "#women's is almost 75%\n",
        "\n",
        "#men's survival rate calculation\n",
        "men = train_data.loc[train_data.Sex == 'male'][\"Survived\"]\n",
        "rate_men = sum(men)/len(men)\n",
        "\n",
        "print(\"% of men who survived:\", rate_men)\n",
        "#men's is almost 19% \n",
        "\n",
        "###### machine learning model coding below ###########\n",
        "\n",
        "#loading random forest model\n",
        "#from sklearn.ensemble import RandomForestClassifier\n",
        "\n",
        "y = train_data[\"Survived\"]\n",
        "\n",
        "features = [\"Pclass\", \"Sex\", \"SibSp\", \"Parch\"]\n",
        "X = pd.get_dummies(train_data[features])\n",
        "X_test = pd.get_dummies(test_data[features])\n",
        "\n",
        "model = RandomForestClassifier(n_estimators=100, max_depth=20, random_state=1)\n",
        "model.fit(X, y)\n",
        "predictions = model.predict(X_test)\n",
        "\n",
        "\n",
        "### submission to Kaggle Competition \n",
        "output = pd.DataFrame({'PassengerId': test_data.PassengerId, 'Survived': predictions})\n",
        "output.to_csv('my_submission.csv', index=False)\n",
        "print(\"Your submission was successfully saved!\")\n",
        "\n",
        "# loading Random forest \n",
        "#model2=DecisionTreeRegressor(random_state=1)\n",
        "#model2.fit(X,y)\n",
        "#predicted_y=model2.predict(X)\n",
        "#mae2=mean_absolute_error(y,predicted_y)\n",
        "#print(mae2)\n",
        "#### model validation ####\n",
        "\n",
        "#import absolute mean error \n",
        "#from sklearn.metrics import mean_absolute_error\n",
        "\n",
        "#predicted_survival = model.predict(X)\n",
        "#in sample error or training prediction only\n",
        "#in_error=mean_absolute_error(y, predicted_survival)\n",
        "\n",
        "# import train_test_split\n",
        "#from sklearn.model_selection import train_test_split\n",
        "\n",
        "train_X, val_X, train_y, val_y = train_test_split(X, y, random_state = 1)\n",
        "\n",
        "model1=model\n",
        "model1.fit(train_X,train_y)\n",
        "predicted_y1=model1.predict(val_X)\n",
        "mae1=mean_absolute_error(val_y,predicted_y1)\n",
        "print(\"MAE1 is \"+str(1-mae1))\n",
        "model2=DecisionTreeRegressor(random_state=1)\n",
        "model2.fit(train_X,train_y)\n",
        "predicted_y2=model2.predict(val_X)\n",
        "mae2=mean_absolute_error(val_y,predicted_y2)\n",
        "print(\"MAE2 is \" +str(1-mae2))\n",
        "\n",
        "#Kaggle Competition score\n",
        "score=1-mae2\n",
        "score=round(score,3)\n",
        "#print(\"Your Kaggle Score is \"+ str(score))\n",
        "\n",
        "\n",
        "\n",
        "\n",
        "\n",
        "### underfitting and overfitting test ###\n",
        "def get_mae(max_leaf_nodes, train_X, val_X, train_y, val_y):\n",
        "    model2 = DecisionTreeRegressor(max_leaf_nodes=max_leaf_nodes, random_state=1)\n",
        "    model2.fit(train_X, train_y)\n",
        "    preds_val = model2.predict(val_X)\n",
        "    mae = mean_absolute_error(val_y, preds_val)\n",
        "    return(mae)\n",
        "for max_leaf_nodes in [5, 50, 500, 5000]:\n",
        "    my_mae = get_mae(max_leaf_nodes, train_X, val_X, train_y, val_y)\n",
        "    print(\"Max leaf nodes: %d  \\t\\t Mean Absolute Error:  %d\" %(max_leaf_nodes, my_mae))\n",
        "\n",
        "# compare MAE with differing values of max_leaf_nodes\n",
        "#candidate_max_leaf_nodes = [5, 25, 50, 100, 250, 500]\n",
        "#scores = {leaf_size: get_mae(leaf_size, train_X, val_X, train_y, val_y) for leaf_size in candidate_max_leaf_nodes}\n",
        "#best_tree_size = min(scores, key=scores.get)\n",
        "#print(best_tree_size)"
      ],
      "execution_count": 26,
      "outputs": [
        {
          "output_type": "stream",
          "text": [
            "% of women who survived: 0.7420382165605095\n",
            "% of men who survived: 0.18890814558058924\n",
            "Your submission was successfully saved!\n",
            "MAE1 is 0.7802690582959642\n",
            "MAE2 is 0.7158023604391387\n",
            "Max leaf nodes: 5  \t\t Mean Absolute Error:  0\n",
            "Max leaf nodes: 50  \t\t Mean Absolute Error:  0\n",
            "Max leaf nodes: 500  \t\t Mean Absolute Error:  0\n",
            "Max leaf nodes: 5000  \t\t Mean Absolute Error:  0\n"
          ],
          "name": "stdout"
        }
      ]
    }
  ]
}